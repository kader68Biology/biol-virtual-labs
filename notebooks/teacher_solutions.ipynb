{
 "cells": [
  {
   "cell_type": "markdown",
   "id": "0",
   "metadata": {},
   "source": [
    "# Teacher Solutions (Password-Protected Viewer)\n"
   ]
  },
  {
   "cell_type": "code",
   "execution_count": null,
   "id": "1",
   "metadata": {},
   "outputs": [],
   "source": [
    "%matplotlib inline\n",
    "import base64, ipywidgets as W\n",
    "from pathlib import Path\n",
    "from IPython.display import display, HTML\n",
    "\n",
    "PASSWORD = \"soluKey2025\"\n",
    "CANDIDATES = [\n",
    "    Path(\"../docs/pdfs/TD_Tech_labo prof.pdf\"),  # Binder (notebooks -> docs)\n",
    "    Path(\"../pdfs/TD_Tech_labo prof.pdf\"),       # Lite (docs/notebooks_lite -> docs/pdfs)\n",
    "    Path(\"pdfs/TD_Tech_labo prof.pdf\"),          # Same dir (rare)\n",
    "]\n",
    "\n",
    "def find_pdf():\n",
    "    for p in CANDIDATES:\n",
    "        if p.exists():\n",
    "            return p\n",
    "    return None\n",
    "\n",
    "pwd = W.Password(description='Password')\n",
    "btn = W.Button(description='Unlock', button_style='warning')\n",
    "out = W.Output()\n",
    "\n",
    "def unlock(_):\n",
    "    with out:\n",
    "        out.clear_output()\n",
    "        if pwd.value != PASSWORD:\n",
    "            display(HTML('<b style=\"color:red\">Incorrect password.</b>')); return\n",
    "        pdf_path = find_pdf()\n",
    "        if not pdf_path:\n",
    "            display(HTML('<b style=\"color:#b00\">PDF not found in repo.</b>')); return\n",
    "        b64 = base64.b64encode(pdf_path.read_bytes()).decode()\n",
    "        href = f\"data:application/pdf;base64,{b64}\"\n",
    "        display(HTML(f'<p><a download=\"teacher_solutions_unlocked.pdf\" href=\"{href}\">Download Solutions PDF</a></p>'))\n",
    "        display(HTML(f'<embed src=\"{href}\" type=\"application/pdf\" width=\"100%\" height=\"600px\" />'))\n",
    "\n",
    "btn.on_click(unlock)\n",
    "display(W.VBox([pwd, btn, out]))\n"
   ]
  }
 ],
 "metadata": {
  "kernelspec": {
   "display_name": "Python 3",
   "language": "python",
   "name": "python3"
  },
  "language_info": {
   "name": "python",
   "version": "3.11"
  }
 },
 "nbformat": 4,
 "nbformat_minor": 5
}
