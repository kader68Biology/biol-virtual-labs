{
 "cells": [
  {
   "cell_type": "markdown",
   "id": "e1a498e2",
   "metadata": {},
   "source": [
    "## Cellule 1 - Importations et définitions de fonctions"
   ]
  },
  {
   "cell_type": "code",
   "execution_count": 1,
   "id": "4e64ac4c",
   "metadata": {},
   "outputs": [],
   "source": [
    "# Importation des bibliothèques\n",
    "import numpy as np\n",
    "import matplotlib.pyplot as plt\n",
    "from ipywidgets import interact, interactive, fixed, interact_manual\n",
    "import ipywidgets as widgets\n",
    "from matplotlib.patches import Rectangle, Circle\n",
    "import scipy.constants as constants\n",
    "\n",
    "# ===============================\n",
    "# Utilitaires & constantes\n",
    "# ===============================\n",
    "G = constants.g  # accélération gravitationnelle ~ 9.81 m/s²\n",
    "PI = np.pi\n",
    "\n",
    "def rpm_to_omega(rpm: float) -> float:\n",
    "    \"\"\"Convertit des tours/minute (rpm) en vitesse angulaire (rad/s).\"\"\"\n",
    "    return (rpm * 2.0 * PI) / 60.0\n",
    "\n",
    "# ===============================\n",
    "# Calculs de centrifugation\n",
    "# ===============================\n",
    "def calculate_rcf(rpm: float, radius_mm: float) -> float:\n",
    "    \"\"\"Calcule le facteur de force relative (RCF, en g).\"\"\"\n",
    "    r_cm = radius_mm / 10.0\n",
    "    rcf = 1.118e-5 * r_cm * (rpm ** 2)\n",
    "    return rcf\n",
    "\n",
    "def stokes_law(diameter: float,\n",
    "               particle_density: float,\n",
    "               medium_density: float,\n",
    "               viscosity: float,\n",
    "               rpm: float,\n",
    "               radius: float) -> float:\n",
    "    \"\"\"\n",
    "    Vitesse de sédimentation (m/s) selon la loi de Stokes sous centrifugation.\n",
    "    v = (Δρ * d^2 * ω^2 * r) / (18 * μ)\n",
    "    \"\"\"\n",
    "    delta_rho = (particle_density - medium_density)\n",
    "    omega = rpm_to_omega(rpm)\n",
    "    v = (delta_rho * (diameter ** 2) * (omega ** 2) * radius) / (18.0 * viscosity)\n",
    "    return v\n",
    "\n",
    "# ===============================\n",
    "# Presets pour différents échantillons\n",
    "# ===============================\n",
    "SAMPLE_PRESETS = {\n",
    "    \"Lait\":            {\"d\": 0.8e-6,  \"rho_p\": 1030, \"rho_m\": 1020, \"mu\": 2.0e-3, \"r\": 0.1},\n",
    "    \"Jus de fruit\":    {\"d\": 7.0e-6,  \"rho_p\": 1070, \"rho_m\": 1000, \"mu\": 1.5e-3, \"r\": 0.1},\n",
    "    \"Broyat végétal\":  {\"d\": 30.0e-6, \"rho_p\": 1100, \"rho_m\": 1000, \"mu\": 2.5e-3, \"r\": 0.1},\n",
    "    \"Levures\":         {\"d\": 6.0e-6,  \"rho_p\": 1100, \"rho_m\": 1000, \"mu\": 2.0e-3, \"r\": 0.1},\n",
    "}\n",
    "\n",
    "# ===============================\n",
    "# Outil d'optimisation simple\n",
    "# ===============================\n",
    "def optimize_centrifugation(rpm: int, time: int, temperature: int, sample_type: str):\n",
    "    \"\"\"\n",
    "    Estime un temps de sédimentation de 10 cm pour un type d'échantillon.\n",
    "    \"\"\"\n",
    "    p = SAMPLE_PRESETS.get(sample_type, SAMPLE_PRESETS[\"Lait\"]).copy()\n",
    "    # Correction simplifiée de viscosité avec température\n",
    "    Tref = 293.15\n",
    "    T = 273.15 + float(temperature)\n",
    "    A = 600.0\n",
    "    p[\"mu\"] = p[\"mu\"] * np.exp(A * (1.0/T - 1.0/Tref))\n",
    "\n",
    "    v = stokes_law(p[\"d\"], p[\"rho_p\"], p[\"rho_m\"], p[\"mu\"], rpm, p[\"r\"])\n",
    "    distance = 0.10  # 10 cm\n",
    "    t_sec = np.inf if v == 0 else distance / abs(v)\n",
    "    t_min = t_sec / 60.0\n",
    "    rcf = calculate_rcf(rpm, radius_mm=p[\"r\"]*1000.0)\n",
    "\n",
    "    print(\"—\"*60)\n",
    "    print(f\"Type: {sample_type} | Vitesse: {rpm} tr/min | Temp: {temperature}°C | Durée prévue: {time} min\")\n",
    "    print(f\"RCF estimée (r={p['r']*1000:.0f} mm): {rcf:.0f} g\")\n",
    "    print(f\"Vitesse de sédimentation estimée: {v:.2e} m/s\")\n",
    "    if (p[\"rho_p\"] - p[\"rho_m\"]) < 0:\n",
    "        print(\"⚠️ Densité particule < milieu → tendance à flotter.\")\n",
    "    if np.isfinite(t_min):\n",
    "        print(f\"Temps pour parcourir 10 cm: ~ {t_min:.1f} min\")\n",
    "        if t_min < time:\n",
    "            print(\"✅ Paramètres suffisants pour espérer un culot en 10 cm.\")\n",
    "        else:\n",
    "            print(\"ℹ️ Augmentez la vitesse, la durée, ou la température (dans les limites de l'échantillon) pour accélérer.\")\n",
    "    else:\n",
    "        print(\"⚠️ Vitesse nulle — vérifiez les paramètres.\")\n",
    "    return {\"velocity_m_s\": v, \"t10cm_min\": t_min, \"rcf_g\": rcf}\n",
    "\n",
    "# ===============================\n",
    "# Simulation de courbes distance vs temps\n",
    "# ===============================\n",
    "def simulate_distance_over_time(diameter, particle_density, medium_density,\n",
    "                                viscosity, rpm, radius, t_max=600, n_points=200):\n",
    "    \"\"\"\n",
    "    Simule la distance parcourue en fonction du temps (s) sous centrifugation.\n",
    "    Retourne (temps en s, distance en m).\n",
    "    \"\"\"\n",
    "    v = stokes_law(diameter, particle_density, medium_density, viscosity, rpm, radius)\n",
    "    t = np.linspace(0, t_max, n_points)\n",
    "    d = v * t\n",
    "    d = np.clip(d, 0, None)  # pas de valeurs négatives\n",
    "    return t, d\n",
    "\n",
    "def plot_sedimentation_curves(sample_type=\"Lait\",\n",
    "                              rpm_list=[5000, 10000, 15000, 20000],\n",
    "                              distance=0.10,\n",
    "                              t_max=600):\n",
    "    \"\"\"\n",
    "    Trace des courbes de distance (cm) vs temps (min) pour différents RPM.\n",
    "    \"\"\"\n",
    "    p = SAMPLE_PRESETS.get(sample_type, SAMPLE_PRESETS[\"Lait\"])\n",
    "    plt.figure(figsize=(6,4))\n",
    "    for rpm in rpm_list:\n",
    "        t, d = simulate_distance_over_time(p[\"d\"], p[\"rho_p\"], p[\"rho_m\"],\n",
    "                                           p[\"mu\"], rpm, p[\"r\"], t_max=t_max)\n",
    "        plt.plot(t/60.0, d*100.0, label=f\"{rpm} rpm\")\n",
    "    plt.axhline(distance*100, color=\"k\", ls=\"--\", label=\"10 cm\")\n",
    "    plt.xlabel(\"Temps (min)\")\n",
    "    plt.ylabel(\"Distance (cm)\")\n",
    "    plt.title(f\"Sédimentation ({sample_type})\")\n",
    "    plt.legend()\n",
    "    plt.grid(True)\n",
    "    plt.show()\n"
   ]
  },
  {
   "cell_type": "markdown",
   "id": "211b0152",
   "metadata": {},
   "source": [
    "## Cellule 2 - Configuration de l'affichage des graphiques"
   ]
  },
  {
   "cell_type": "code",
   "execution_count": 2,
   "id": "e71a0a04",
   "metadata": {},
   "outputs": [],
   "source": [
    "# Configuration pour l'affichage des graphiques dans le notebook\n",
    "try:\n",
    "    import ipympl  # Vérifie si ipympl est installé\n",
    "    from IPython import get_ipython\n",
    "    ip = get_ipython()\n",
    "    if ip is not None:\n",
    "        ip.run_line_magic(\"matplotlib\", \"widget\")\n",
    "except Exception:\n",
    "    # Fallback en inline si ipympl non disponible\n",
    "    try:\n",
    "        from IPython import get_ipython\n",
    "        ip = get_ipython()\n",
    "        if ip is not None:\n",
    "            ip.run_line_magic(\"matplotlib\", \"inline\")\n",
    "    except Exception:\n",
    "        pass\n"
   ]
  },
  {
   "cell_type": "markdown",
   "id": "ba2cb799",
   "metadata": {},
   "source": [
    "## Cellule 3 - Widgets interactifs (RCF & Stokes)"
   ]
  },
  {
   "cell_type": "code",
   "execution_count": 7,
   "id": "7771e01e",
   "metadata": {},
   "outputs": [
    {
     "data": {
      "application/vnd.jupyter.widget-view+json": {
       "model_id": "75bdf9ff908a49dabf5b8abff27a3982",
       "version_major": 2,
       "version_minor": 0
      },
      "text/plain": [
       "interactive(children=(IntSlider(value=15000, description='rpm', max=30000, min=1000, step=500), IntSlider(valu…"
      ]
     },
     "metadata": {},
     "output_type": "display_data"
    },
    {
     "data": {
      "application/vnd.jupyter.widget-view+json": {
       "model_id": "90cb3319cf8644238d010329a5b8cfc9",
       "version_major": 2,
       "version_minor": 0
      },
      "text/plain": [
       "interactive(children=(FloatSlider(value=1e-06, description='diameter', max=1e-05, min=1e-09, step=1e-09), IntS…"
      ]
     },
     "metadata": {},
     "output_type": "display_data"
    },
    {
     "data": {
      "text/plain": [
       "<function __main__.interactive_stokes(diameter=1e-06, particle_density=1180, medium_density=1020, viscosity=0.01, rpm=15000, radius=0.1)>"
      ]
     },
     "execution_count": 7,
     "metadata": {},
     "output_type": "execute_result"
    }
   ],
   "source": [
    "# Widgets interactifs — suppose que les fonctions sont déjà définies (Cellule 1)\n",
    "try:\n",
    "    from ipywidgets import interact\n",
    "except Exception:\n",
    "    import ipywidgets as widgets\n",
    "    interact = widgets.interact\n",
    "\n",
    "def interactive_rcf(rpm=15000, radius_mm=100):\n",
    "    rcf = calculate_rcf(rpm, radius_mm)\n",
    "    print(f\"Pour {rpm} tr/min et un rayon de {radius_mm} mm:\")\n",
    "    print(f\"RCF = {rcf:.2f} g\")\n",
    "\n",
    "def interactive_stokes(diameter=1e-6, particle_density=1180, medium_density=1020, \n",
    "                       viscosity=0.01, rpm=15000, radius=0.1):\n",
    "    velocity = stokes_law(diameter, particle_density, medium_density, viscosity, rpm, radius)\n",
    "    print(f\"Vitesse de sédimentation: {velocity:.2e} m/s\")\n",
    "    if velocity > 0:\n",
    "        print(f\"Temps pour sédimenter de 10 cm: {0.1/velocity/60:.2f} min\")\n",
    "    else:\n",
    "        print(\"Les particules flottent!\")\n",
    "\n",
    "# Interfaces interactives\n",
    "interact(interactive_rcf, rpm=(1000, 30000, 500), radius_mm=(50, 200, 10))\n",
    "interact(interactive_stokes,\n",
    "         diameter=(1e-9, 1e-5, 1e-9),\n",
    "         particle_density=(1000, 2000, 50),\n",
    "         medium_density=(800, 1200, 10),\n",
    "         viscosity=(0.001, 0.1, 0.001),\n",
    "         rpm=(1000, 30000, 500),\n",
    "         radius=(0.05, 0.2, 0.01))\n"
   ]
  },
  {
   "cell_type": "markdown",
   "id": "7e9df40a",
   "metadata": {},
   "source": [
    "## Cellule 4 - Simulation des courbes de sédimentation"
   ]
  },
  {
   "cell_type": "code",
   "execution_count": 8,
   "id": "757b36a5",
   "metadata": {},
   "outputs": [
    {
     "data": {
      "application/vnd.jupyter.widget-view+json": {
       "model_id": "c900a4bfc18646dfa90a4aecd33be63a",
       "version_major": 2,
       "version_minor": 0
      },
      "text/plain": [
       "interactive(children=(Dropdown(description='Échantillon:', options=('Lait', 'Jus de fruit', 'Broyat végétal', …"
      ]
     },
     "metadata": {},
     "output_type": "display_data"
    },
    {
     "data": {
      "text/plain": [
       "<function __main__.interactive_plot(sample_type='Lait', rpm_list_str='5000,10000,15000,20000', t_max_min=10)>"
      ]
     },
     "execution_count": 8,
     "metadata": {},
     "output_type": "execute_result"
    }
   ],
   "source": [
    "# Cellule 4 : Simulation et visualisation des courbes de sédimentation\n",
    "import ipywidgets as widgets\n",
    "from ipywidgets import interact\n",
    "\n",
    "def interactive_plot(sample_type=\"Lait\",\n",
    "                     rpm_list_str=\"5000,10000,15000,20000\",\n",
    "                     t_max_min=10):\n",
    "    try:\n",
    "        rpm_list = [int(v.strip()) for v in rpm_list_str.split(\",\") if v.strip().isdigit()]\n",
    "    except Exception:\n",
    "        rpm_list = [10000, 20000]\n",
    "    plot_sedimentation_curves(sample_type=sample_type,\n",
    "                              rpm_list=rpm_list,\n",
    "                              distance=0.10,\n",
    "                              t_max=t_max_min*60)\n",
    "\n",
    "interact(interactive_plot,\n",
    "         sample_type=widgets.Dropdown(options=list(SAMPLE_PRESETS.keys()),\n",
    "                                      value=\"Lait\",\n",
    "                                      description=\"Échantillon:\"),\n",
    "         rpm_list_str=widgets.Text(value=\"5000,10000,15000,20000\",\n",
    "                                   description=\"RPMs (séparés par ,):\",\n",
    "                                   layout=widgets.Layout(width=\"70%\")),\n",
    "         t_max_min=widgets.IntSlider(min=1, max=60, step=1, value=10,\n",
    "                                     description=\"Durée max (min):\"))\n"
   ]
  },
  {
   "cell_type": "markdown",
   "id": "facd56f7",
   "metadata": {},
   "source": [
    "## Cellule 5 - Outil d'optimisation interactif"
   ]
  },
  {
   "cell_type": "code",
   "execution_count": 9,
   "id": "f8f4eb4a",
   "metadata": {},
   "outputs": [
    {
     "name": "stdout",
     "output_type": "stream",
     "text": [
      "============================================================\n",
      "EXPLORATION INTERACTIVE DES PARAMÈTRES DE CENTRIFUGATION\n",
      "============================================================\n"
     ]
    },
    {
     "data": {
      "application/vnd.jupyter.widget-view+json": {
       "model_id": "104be1897dd54aefad12bed110782a15",
       "version_major": 2,
       "version_minor": 0
      },
      "text/plain": [
       "interactive(children=(IntSlider(value=15000, description='Vitesse (tr/min):', layout=Layout(width='80%'), max=…"
      ]
     },
     "metadata": {},
     "output_type": "display_data"
    },
    {
     "data": {
      "text/plain": [
       "<function __main__.optimize_centrifugation(rpm: int, time: int, temperature: int, sample_type: str)>"
      ]
     },
     "execution_count": 9,
     "metadata": {},
     "output_type": "execute_result"
    }
   ],
   "source": [
    "# Interface utilisateur pour explorer les paramètres de centrifugation\n",
    "try:\n",
    "    import ipywidgets as widgets\n",
    "    from ipywidgets import interact\n",
    "except Exception:\n",
    "    class _Dummy:\n",
    "        def __call__(self, *a, **k): \n",
    "            print(\"ipywidgets non disponible — installez-le pour l'interactivité.\")\n",
    "    widgets = type(\"W\", (), {\"IntSlider\": _Dummy, \"Dropdown\": _Dummy, \"Layout\": lambda *a, **k: None})()\n",
    "    interact = _Dummy()\n",
    "\n",
    "print(\"=\"*60)\n",
    "print(\"EXPLORATION INTERACTIVE DES PARAMÈTRES DE CENTRIFUGATION\")\n",
    "print(\"=\"*60)\n",
    "\n",
    "style = {'description_width': 'initial'}\n",
    "layout = widgets.Layout(width='80%')\n",
    "\n",
    "interact(optimize_centrifugation,\n",
    "         rpm=widgets.IntSlider(min=1000, max=30000, step=500, value=15000, \n",
    "                              description='Vitesse (tr/min):', style=style, layout=layout),\n",
    "         time=widgets.IntSlider(min=1, max=120, step=5, value=30, \n",
    "                               description='Temps (min):', style=style, layout=layout),\n",
    "         temperature=widgets.IntSlider(min=0, max=40, step=1, value=4, \n",
    "                                      description='Température (°C):', style=style, layout=layout),\n",
    "         sample_type=widgets.Dropdown(\n",
    "             options=list(SAMPLE_PRESETS.keys()),\n",
    "             value='Lait',\n",
    "             description=\"Type d'échantillon:\",\n",
    "             style=style,\n",
    "             layout=layout\n",
    "         ))\n"
   ]
  },
  {
   "cell_type": "markdown",
   "id": "7c631245",
   "metadata": {},
   "source": [
    "## Démo rapide"
   ]
  },
  {
   "cell_type": "code",
   "execution_count": 10,
   "id": "fab9b912",
   "metadata": {},
   "outputs": [
    {
     "data": {
      "application/vnd.jupyter.widget-view+json": {
       "model_id": "a14ef66830bf43439592dd3cae989dc1",
       "version_major": 2,
       "version_minor": 0
      },
      "image/png": "[encoded data removed]",
      "text/html": [
       "\n",
       "            <div style=\"display: inline-block;\">\n",
       "                <div class=\"jupyter-widgets widget-label\" style=\"text-align: center;\">\n",
       "                    Figure\n",
       "                </div>\n",
       "                <img src='data:image/png;base64,iVBORw0KGgoAAAANSUhEUgAAAlgAAAGQCAYAAAByNR6YAAAAOnRFWHRTb2Z0d2FyZQBNYXRwbG90bGliIHZlcnNpb24zLjEwLjUsIGh0dHBzOi8vbWF0cGxvdGxpYi5vcmcvWftoOwAAAAlwSFlzAAAPYQAAD2EBqD+naQAAQclJREFUeJzt3Qd4VFXawPE3pEGA0OtKE1FQEVSEpSyiUkRWZV1FRRHFvigiq1gBAYEVFFHEgq6gflJ2VbCCIKKIgNLEglKUtkgRgQQIpHG/5z1wx5lJMqSc5GZm/r/nGZJ758y9Z85MZl7OOfc9MY7jOAIAAABrytg7FAAAABQBFgAAgGUEWAAAAJYRYAEAAFhGgAUAAGAZARYAAIBlBFgAAACWEWABAABYRoAFAABgGQEWAACAZQRYAAAAlhFgAQAAWEaABQAAYBkBFgAAgGUEWAAAAJYRYAEAAFhGgAUAAGAZARYAAIBlBFgAAACWEWABAABYRoAFAABgGQEWAACAZQRYAAAAlhFgAQAAWEaABYSpb7/9Vh577DHZtm2b11UBAAQhwALCUEpKivztb3+Tffv2Sb169fL1mE6dOpmba/PmzRITEyNTp06VaKXPXdtA28ILBw8elJo1a8qbb75ZLMcvyGv8+++/S/ny5eWjjz4qlroA0YYAC/DYd999J1deeaU0aNBAypYtK3/605+kS5cuMnHixDwfc9NNN8nZZ58tTz/9tEQ6/cLXnrqiGD16tMyePVtKm2eeeUYqVqwo11xzjW+fPlcNivbs2VOi7VmtWjW55ZZbZMiQIcVyXiDaEGABHlqyZIm0atVK1qxZI7feeqs899xz5kuuTJky5ss3r14Jfcz//d//mXKFpQHd4cOHpU+fPlKaaUAwfPjwYgmw9LlrG2hblLTMzEzzGuvrHRsbWyznyO01DtWed9xxh6xatUo+/fTTYqkPEE3ivK4AEM1GjRollSpVkuXLl0vlypUD7tu9e3euj2nYsKE8/PDDRT639pJoj1k008CmuIKbE/nggw/kt99+k169ehXbOQr6Gjdr1kzOPPNMM6R44YUXFlu9gGhADxbgoZ9//lnOOOOMHMGV0rk5wbTX6txzz5Vy5cpJ1apVzdBSbpPcJ0+eLI0bNzblWrduLV988UW+5ufceOONUqFCBdm6dav89a9/Nb/rkOWkSZN8w5n6xatzdbR3ZNq0aTmOu3//fhk4cKCZG5aYmCinnHKKPPHEE3L06NEc537yySd9ddWy5513ngk2/evjnlvLuzeXPr5du3ZmeEufq7bNW2+9FVAfLX/o0CF57bXXfI/X44aag/X888+b10XrVLduXenfv795Xv50PpsGI2vXrpULLrhAkpKSTFuNHTtW8kN71DRY1udeUHv37pX77rtPmjdvbl6j5ORk6d69u+kJDfUan6g9lQ5Pv//+++I4ToHrBeAP9GABHtIgZenSpfL999+bL+sT9Xbp/Bjt8dBhJe390HlaHTt2lNWrV/uCtH//+99y++23m8BDA51ffvlFLrvsMhOQ5WdCfHZ2tvmy1uNqsKATsO+66y4TVD3yyCNy3XXXyRVXXCEvvvii3HDDDdK2bVtp1KiReWxaWpqcf/75sn37dlOH+vXrm2HQhx56SHbs2CETJkwIOJcGaAcOHDBl9Ytez6fH1jrHx8eb/b/++qvMnz9f3njjjRx11SE2fW5ap4yMDJkxY4ZcddVVpneoR48epow+TttLA83bbrvN7AsV1Oj8JB1C69y5s9x5552ybt06eeGFF0zg9+WXX5p6ufQig4svvtjUWV8XDe4eeOABE/hoG4ai7XLOOedIYWj7aICmz1XbfteuXfLSSy+ZtteAT4PC3JyoPZUGqTq374cffjjhexJACA4Az8ybN8+JjY01t7Zt2zqDBw92Pv74YycjIyOg3ObNm02ZUaNGBez/7rvvnLi4ON9+fVzNmjWdli1bOunp6b5ykydP1u4I5/zzz/ft27Rpk9k3ZcoU376+ffuafaNHj/bt27dvn1OuXDknJibGmTFjhm//Tz/9ZMoOGzbMt2/kyJFO+fLlnfXr1wfU88EHHzT137p1a8C5q1Wr5uzdu9dX7t133zX733//fd++/v37m325SUtLC9jW53/mmWc6F154YcB+rZM+t2D63PXYWh+1e/duJyEhwenatauTnZ3tK/fcc8+Zcq+++qpvn7al7nv99dd9+7TNa9eu7fz97393QsnMzDTt+c9//jPHfdqeetzffvstz8cfOXIkoH5Kn0NiYqIzYsSIkK9xqPZUS5YsMffPnDkz5HMAEBpDhICHdDhGe7C0F0aHd7QHp1u3bmao6b333vOVe+edd8wQm/aS6NVl7q127drSpEkTWbhwoSm3YsUKM3dLJysnJCT4Hq9DQzrXK7+0x8elPWOnnXaa6cHyny+k+/Q+7U1x/fe//5W//OUvUqVKlYB6am+Q9owtWrQo4DxXX321KevSxyr/Y4aiw4L+vUmavkKPoRO1C+OTTz4xPWHa8+d/AYFegKDDcB9++GFAeR2eu/76633b2ubaU3ai+usQnw7B+T/3gtChS7d+2q6aYkHroq9JYZ+7y61TcV3FCEQLhggBj+m8Iw2g9Itdg6xZs2aZIRpN3fDNN9/I6aefLhs2bDBfyBpM5cYdttqyZYv5GVxO7z/55JPzVR+dFF2jRo2AfRqcnXTSSTnm6+h+DWxcWk9NgBr8+Lwm7usQYm5f7v7HDEWHAh9//HHTTunp6b79wfXML7f9NFDxp4GTtp97vyu3NtHnoG2QH4Wd56TBtg6P6lyxTZs2mSDLpfPRisKtU2HbEMAxBFhAKaFf4hps6e3UU081ua60R2jYsGHmC1W/8ObMmZPrVW/ae2FLXlfV5bXfP0jQemqv3ODBg3Mtq8+roMfMi07c154/nSumgUadOnVMIDllypRcJ98Xh8LWX+fD6euZ30Ayt7QTOh+vX79+MnLkSHM87dHSnjf/iwkKw61T9erVi3QcINoRYAGlkOa5Ujox3J2UrV/aOqE5OEjx5+Zz0p4k/8vsNeeS9nS0aNGiWOut9dTs5DokaEtePSlvv/226W37+OOPzZCZSwOs/B4jr/bTie3+PX7au6jtZ+t5xcXFmbbSYxaGTqbXKxf1ggZ/eqXjiQKjE7WFWydN2QCg8JiDBXhI507l1tvhLlfiDlXpVWraW6JXtwWX122dg+MGZjo8p1f4aVDg0sv0g9MMFAedo6VzyjToCabnz8rKKvAxde6X+3h/2h4aLPgPj2lagtwSiuox8vP8NYDSnsRnn302oJ01kNH5Xe6ViTbo1Zc6Z64w9LkHvw+0t1Ov3ixse7pWrlxphn41TQWAwqMHC/DQ3XffbVIb6LqCTZs2NUGRXr4/c+ZMkyNJhwmV9nboXCNNd6BBRM+ePc0SK9rboHO2NP2A5kXSITItp5fjaw+WTiLXMtqrk985WEVx//33m8n5mkNLJ9brJf+ag0rzZ2mvi9a9oENPegw1YMAAcwGABhea/0uDnfHjx5s0Cb179zbzuzTHk+bdCp4DpcfQCexaXlMYaE9gmzZtcpxLg1NtYw1k9bg6BKm9WToEqUO3/hPai+ryyy83qRLWr1+fa6+k1lVza/nTYUBNMqvtO2LECPP+0HQc2r6aTiM/r3Fe7enSFA6XXnopc7CAojrBVYYAitGcOXOcfv36OU2bNnUqVKhgUgSccsopzt133+3s2rUrR/m3337b6dChg0k7oDd9nF52v27duoByzz//vNOoUSNz2X6rVq2cRYsWmbQC+UnToMcNpo8744wzcuxv0KCB06NHj4B9Bw4ccB566CHzPPT5VK9e3WnXrp3z5JNP+tJPuOceN25cjmMGp37Iysoy7VGjRg2T2sD/Y+vf//6306RJE/M8tS30ubhpDvxpSomOHTuadBN6n5uyIThNg39aBj1efHy8U6tWLefOO+806Sry0yZ6bG2XE9GUDto2mtrCn1v/3G6a6sJN06ApHurUqWOeU/v27Z2lS5fm6zUO1Z4//vij2f7kk09OWH8AocXoP0WO0gAABaYT1LV3UefMebVkjz+dJK+pNHSYkB4soGiYgwUAHrn33nvNRQGagd5rOo/vlVdeMUPMBFdA0dGDBQAAYBk9WAAAAJYRYAEAAFhGgAUAAGAZARYAAIBlJBrNJ13f69dffzXJHbnCBgCA/HMcRw4cOGAS/WrC3GhAgJVPGlzVq1fP62oAABC2tm3bJieddJJEAwKsfNKeK/fNkZycbOWYugDvvHnzpGvXrmaJExQdbWoX7WkfbWoX7RkebZqammo6Kdzv0mhAgJVP7rCgBlc2Ayxda0yPxweDHbSpXbSnfbSpXbRneLVpTBRNsYmOgVAAAIASRIAFAABgGQEWAACAZQRYAAAAlhFgAQAAWEaABQAAYBkBFgAAgGUREWAtWrRILr30UpOCX3NszJ49O0eK/qFDh0qdOnWkXLly0rlzZ9mwYYNn9QUAAJEtIgKsQ4cOSYsWLWTSpEm53j927Fh59tln5cUXX5SvvvpKypcvL926dZMjR46UeF0BAEDki4hM7t27dze33Gjv1YQJE+TRRx+Vyy+/3Ox7/fXXpVatWqan65prrilwMBcbG5tjv+4rW7ZsQLm86EKX2pPmXzavbLnBZdPS0sxzyo323mn23cKUPXz4sFnQOi8alBamrAax2dnZVspqfd0swOnp6ZKVlZVrBmI9jv/zzqusS9vXXXw0IyPDHMNGWX0/uO+VgpTVclo+L4mJiRIXF1fgstoG2hZ5SUhI8L0P3bJuewa/R/3L6msW6j8rWk7LF7Ssvsf0vWajrLaBtoXS94b+bdgoW5C/+9zK5vfvviCfJ9H2GeH/Hq1UqdIJPyMK8nkSrZ8R+fm7L8jnSXZ2dsj3cMRyIow+pVmzZvm2f/75Z7Nv9erVAeU6duzoDBgwIM/jHDlyxElJSfHdtm3bZo6T16179+5ORkaG75aUlJRnWT23ljl06JAze/Zsp3r16nmWPffccwOO26BBgzzLNmvWLKCsbudVVo/jX1bPk1dZrZ9/Wa1/XmX1efuX1XYJ1W7+Za+44oqQZfft2+cr26dPn5BlN2/e7Ct7xx13hCy7fv16X9lBgwaFLKvvI7fso48+GrLskiVLfGXHjBkTsuz8+fN9ZZ955pmQZfU945Z95ZVXQpadNm2ar6z+HqqsHsstq+cIVVbr6JbVuocqq8/dLattEqqstqlbVts6VFl9rdyy+hqGKqvvAbfs9u3bQ5bV95ZbVt9zocrqe9b/PZyfzwj37z4/nxHujc8I+58R+j7gM6LkPyNSUlKcaBERPVih7Ny50/zUHit/uu3el5sxY8bI8OHD832e3bt3y0cffeTbDvU/st9//z2gbKj/XaSkpASUDfW/6YMHDwaU1e286HH8y+p58qL18y+r9c+LPm//stouofiXDfV6qI8//tjXA/C///0vZNnPP//c/G9WbdmyJWTZhQsX+t4fv/zyS8iyX3zxhe94J5rH9+WXX/qe/08//RSy7LJly3z/w/vhhx9Cll2xYoXv9zVr1oQsu3r1al8vhP4eih7LfT38z5EbraNb9rvvvgtZVp+7W/ZEbab3u2W3bt0asqy+Vm7ZXbt2hSyrr5lbNtR73X1vuWVPNI1A37P+7+FQ+IwoXZ8Rn3zyCZ8RpeQzIlLFaJQlEUS7fGfNmiU9e/Y020uWLJH27dvLr7/+aia5u3r16mXKzpw5M9fjaNenf/enuxK4/uHktthzYYYItRt2/vz50q5dO4YILQ4Rfvrpp/LXv/7VN3xE93/Rhgi1PS+88EKGCC0NERbm754hwrzL+r9HGSK0N0R4or/7gg4R7t69Wxo0aGAC9dy+QyNRxPdg1a5d2/c/XP8AS7dbtmwZ8k3nfsj6q1y5cr7eHFouv7Rsflcsd//HZbtsQVZML81l9YNBP4j8/7hLc33zKuv/xWazrP8XcX7Kuu0Z6j2q+/2DjBMdN79lVW5/gzbKuoGZ7bLF9XdfkONG22dEXu/R0lrfcPiMyO/ffUE+TyoX4D0cKSLiKsJQGjVqZIKsBQsWBPRG6dWEbdu29bRuAAAgMkVED5bOI9i4caNve9OmTfLNN99I1apVpX79+jJw4EB5/PHHpUmTJibgGjJkiMmZ5Q4jAgAA2BQRAZZOtrvgggt824MGDTI/+/btK1OnTpXBgwebOQy33Xab7N+/Xzp06CBz584t0FAFAABAVAVYnTp1ynOiptKJjCNGjDA3AACA4hbxc7AAAABKGgEWAACAZQRYAAAAlhFgAQAAWEaABQAAYBkBFgAAgGUEWAAAAJYRYAEAAFhGgAUAAGAZARYAAIBlBFgAAACWEWABAABYRoAFAABgGQEWAACAZQRYAAAAlhFgAQAAWEaABQAAYBkBFgAAgGUEWAAAAJYRYAEAAFhGgAUAAGAZARYAAIBlBFgAAACWEWABAABYRoAFAABgGQEWAACAZQRYAAAAlhFgAQAAWEaABQAAYBkBFgAAgGUEWAAAAJYRYAEAAFhGgAUAAGAZARYAAIBlBFgAAACWEWABAABYRoAFAABgGQEWAACAZQRYAAAAlhFgAQAAWEaABQAAYBkBFgAAgGUEWAAAAJYRYAEAAFhGgAUAAGBZVARY2dnZMmTIEGnUqJGUK1dOGjduLCNHjhTHcbyuGgAAiEBxEgWeeOIJeeGFF+S1116TM844Q1asWCE33XSTVKpUSQYMGOB19QAAQISJigBryZIlcvnll0uPHj3MdsOGDWX69Ony9ddfe101AAAQgaIiwGrXrp1MnjxZ1q9fL6eeeqqsWbNGFi9eLOPHj8/zMenp6ebmSk1NNT8zMzPNzQb3OLaOB9rUNtrTPtrULtozPNo0MwpfnxgnCiYiHT16VB5++GEZO3asxMbGmjlZo0aNkoceeijPxzz22GMyfPjwHPunTZsmSUlJxVxjAAAiR1pamvTu3VtSUlIkOTlZokFUBFgzZsyQ+++/X8aNG2fmYH3zzTcycOBA04PVt2/ffPdg1atXT/bs2WPtzaER/fz586VLly4SHx9v5ZjRjja1i/a0jza1i/YMjzZNTU2V6tWrR1WAFRVDhBpcPfjgg3LNNdeY7ebNm8uWLVtkzJgxeQZYiYmJ5hZM32y2/4iL45jRjja1i/a0jza1i/Ys3W0aH4WvTZlo6ZosUybwqepQoQ4dAgAA2BYVPViXXnqpmXNVv359M0S4evVqMzzYr18/r6sGAAAiUFQEWBMnTjSJRv/xj3/I7t27pW7dunL77bfL0KFDva4aAACIQFERYFWsWFEmTJhgbgAAAMUtKuZgAQAAlCQCLAAAAMsIsAAAACwjwAIAALCMAAsAAMAyAiwAAADLCLAAAAAsI8ACAACwjAALAADAMgIsAAAAywiwAAAALCPAAgAAsIwACwAAwDICLAAAAMsIsAAAACwjwAIAALCMAAsAAMAyAiwAAADLCLAAAAAsI8ACAACwjAALAADAMgIsAAAAywiwAAAALCPAAgAAsIwACwAAwDICLAAAAMsIsAAAACwjwAIAALCMAAsAAMAyAiwAAADLCLAAAAAsixOP/PjjjzJjxgz54osvZMuWLZKWliY1atSQs88+W7p16yZ///vfJTEx0avqAQAAhE8P1qpVq6Rz584mkFq8eLG0adNGBg4cKCNHjpTrr79eHMeRRx55ROrWrStPPPGEpKenl3QVAQAAwqsHS3um7r//fnnrrbekcuXKeZZbunSpPPPMM/LUU0/Jww8/XKJ1BAAACKsAa/369RIfH3/Ccm3btjW3zMzMEqkXAABA2A4R5ie4Kkp5AACAqJ3k7lq+fLksXLhQdu/eLUePHg24b/z48Z7VCwAAICwDrNGjR8ujjz4qp512mtSqVUtiYmJ89/n/DgAAEE48DbB0Evurr74qN954o5fVAAAAiJxEo2XKlJH27dt7WQUAAIDICrDuvfdemTRpkpdVAAAAiKwhwvvuu0969OghjRs3ltNPPz3HFYPvvPOOZ3UDAAAIywBrwIAB5grCCy64QKpVq8bEdgAAEBE8DbBee+01efvtt00vFgAAQKTwdA5W1apVzfAgAABAJPE0wHrsscdk2LBhkpaWVuzn2r59u1lMWociy5UrJ82bN5cVK1YU+3kBAED08XSI8Nlnn5Wff/7ZJBlt2LBhjknuq1atsnKeffv2mXQQOtdrzpw5UqNGDdmwYYNUqVLFyvEBAABKTYDVs2fPEjnPE088IfXq1ZMpU6b49jVq1KhEzg0AAKKPpwGWDg+WhPfee0+6desmV111lXz++efypz/9Sf7xj3/Irbfemudj0tPTzc2VmppqfmZmZpqbDe5xbB0PtKlttKd9tKldtGd4tGlmFL4+MY7jOF4u9KwLPLdp0yZg/1dffSWxsbHSqlUrK+cpW7as+Tlo0CATZOl577nnHnnxxRelb9++ec4PGz58eI7906ZNk6SkJCv1AgAgGqSlpUnv3r0lJSVFkpOTJRp4GmC1bt1aBg8eLFdeeWWOBKM6rKeBlg0JCQkmWFuyZElADi4NtJYuXZrvHiwdZtyzZ4+1N4dG9PPnz5cuXbrkmH+GwqFN7aI97aNN7aI9w6NNU1NTpXr16lEVYHk6RLh27Vo555xzcuw/++yzzX221KlTx2SK99esWTOTgysviYmJ5hZM32y2/4iL45jRjja1i/a0jza1i/Ys3W0aH4WvjadpGjSA2bVrV479O3bskLg4e7GfXkG4bt26gH3r16+XBg0aWDsHAABAqejB6tq1qzz00EPy7rvvSqVKlcy+/fv3y8MPP2y6Jm0uKt2uXTsZPXq09OrVS77++muZPHmyuQEAiofOsc3IyCj24Sz9D/mRI0ckOzu7WM8VLQrTptpDpXOnUUoCrCeffFI6duxoepJ0WFB98803Ji/WG2+8Ye085513nsyaNcsEcyNGjDApGiZMmCDXXXedtXMAAP6ggdWmTZtMkFWcdBpx7dq1Zdu2baxn63GbVq5c2TyO16EUBFiaLuHbb7+VN998U9asWWMyrN90001y7bXXWh+v/etf/2puAIDi/4LWqR7ao6EXB5UpU3yzUTSAO3jwoFSoUKFYzxNNCtqm+nrrVYK7d+/2zXuGxwGWKl++vNx2221eVwMAYElWVpb5wq1bt26xp7VxhyE1HQ8Blndtqh0kSoOsmjVrMlzoxST3ZcuW5bus/oH+8MMPxVofAIBd7rwdTZGD6OEG09GYVLRUBFh9+vQxWdX/+9//yqFDh3ItoykadKJ748aNZeXKlSVdRQCABczFiS683h4PEWrw9MILL8ijjz5qsrqeeuqpphtZuyJ1UeaffvrJjP3+7W9/k3nz5knz5s1LuooAAADhFWDp5HXNoq63FStWyOLFi2XLli1y+PBhadGihUmpcMEFF0jVqlVLumoAAABWeDojUJevGThwoDz99NNmXcDHH39c/v73vxNcAQBK3KJFi+TSSy81oyo63DV79uxcr5gbOnSouVJOJ3Z37txZNmzYEFBm7969Jg2QLgmjqQtuvvlmMzLjT6+g/8tf/mJGb/RKy7Fjx+Y4l06ladq0qSmjozkfffRRMTxrFBcuuQAAQMTMC9aRlEmTJuVZRgOhZ5991nQK6Hq5eiW8zivWpJwuDa70Ai1dz++DDz4wgZv/1fK6Lp8m2tYckDrPeNy4cfLYY48FJL/WtXM1ZZEGZ6tXr5aePXua2/fff5/v51PcSV5xArrYM04sJSVFF8U2P23JyMhwZs+ebX7CDtrULtrTvmho08OHDztr1641P4tbdna2s2/fPvPTJv28nzVrVsC+o0ePOrVr13bGjRvn27d//34nMTHRmT59utnW562PXb58ua/MnDlznJiYGGf79u1m+/nnn3eqVKnipKen+8o88MADzmmnnebb7tWrl9OjR4+A87dp08a5/fbb86zzsGHDnBYtWjgvv/yy07BhQ3NOdf755zv9+/c3t+TkZKdatWrOo48+ap6Pq0GDBs7IkSOdPn36OOXLl3dOOukk8/x3797tXHbZZWZf8+bNA55XQV73lGL4Di3t6MECABQrk4gyI6vYboczsvO871isZIdmpt+5c6cZFnTpMm9t2rSRpUuXmm39qcOCOgXGpeU1n5T2eLlldBUT/zQW2guma+bqxV5uGf/zuGXc8+Rl48aN8vbbb8s777xjVkZxvfbaa2b5G10q7plnnpHx48fLK6+8EvBYna6ja/dqr5r2sPXt21duuOEGuf7662XVqlXmyn7dttmmkczzRKMAgMh2ODNbTh/6sSfnXjuimyQl2Pmq0+BK6XJu/nTbvU9/aqJNfxrY6Nxi/zK6ZFvwMdz7qlSpYn6GOk+oYcHXX39datSoEbBf53lpAKVzy0477TT57rvvzPatt97qK3PJJZfI7bffbhKNDh48WF599VWz1NxVV11l7n/ggQekbdu2smvXLrMkDkIrNT1Y/uPXAACg4HReV3Bwpf785z8H5KnSQEkn5/sv5nzWWWf5fneDRP9USW7A5y6Jg1Lcg6VR8qhRo8xkQY2I169fLyeffLIMGTJEGjZsaCb3AQDCW7n4WNOTVFzfIwdSD0jF5Iq5Luui57bF7bXR7yv/9fZ0u2XLlr4ywQGILh2kVxa6j9ef+hh/7vaJypyo50gn3ReW/xrAbjCW277iXsA7Unjag6VpGaZOnWquyvAfiz7zzDNzjA0DAMKTfjHrMF1x3colxOZ5n83s4jqspwHOggULAq4I1LlV2iOk9Of+/fsDViH59NNPTVCic7XcMnplof+SMnrFoQ7d6fCgW8b/PG4Z9zwF5c7/8l+2rkmTJqwZGKkBlo4T62Wpekmr/4usl8lqRncAAEqK5qrSieHu5HCd1K6/b9261WxrsKa5G7Vz4L333jPzmHTSt+bN0hQKqlmzZnLxxRebuU06ofzLL7+Uu+66S6655hpTTukqJtqpoKM0ms5h5syZZuL5oEGDfHW55557ZO7cufLUU0+Z70NN46DJufVYhaHPQY+vE+mnT58uEydONOdAhA4Rbt++XU455ZQc+zXSZ7FIAEBJ0gBGVxJxuQGPXk2noy1KJ39rvizNa6U9VR06dDCBkCYDdb355psmELrooovMsKUm0NbcWf5XHupScP3795dzzz1XqlevbpKX+ufKateunUybNs0sK6dr82pvkyY+1RGewtBAUFdMad26tenQ0ODK/3yIsADr9NNPly+++MJMyvP31ltvydlnn+1ZvQAA0adTp04nTEGgvVgjRowwt7zoFYMaHIWiE8r1+y8UvXrPvYIvP7SXS2+50blUEyZMMGsB52bz5s059ukEeP95bTo3mhQNYRJgacSu/zPQnizttdK8Hdp9qUOHmv0WAAAgHHk6B+vyyy+X999/Xz755BNz5YMGXD/++KPZ16VLFy+rBgAAEL6JRnWxS70yAgAA2PfZZ595XYWo5GkP1vLly3NcOqp0n042BAAACEeeBlh6BcW2bdty7Nc5WXofAABAOPI0wFq7dq2cc845OfbrFYR6HwAAQDjyNMBKTEzMsRSA2rFjh1kcEwAAIBx5GmB17dpVHnroIUlJSfHt08RtmlSNqwgBAEC48rSb6Mknn5SOHTuaRKNuYlFdlkBX7H7jjTe8rBoAAEB49mD96U9/km+//dYs9qxZ3XXJAF2PSdd3qlevnpdVAwBEGV2A+dJLLzVrBmrGdl2aJphmMtecjXXq1JFy5cpJ586dZcOGDZ7UF6Wb5xOdNMEo6yEBALymawy2aNFC+vXrJ1dccUWuZbRDQNcVfO2116RRo0YyZMgQ6datm7kwy389QsDzAEsj/4ULF8ru3bvNcjn+9H8JAACUhO7du5tbXrT3Stfz0wWYdSUSpUu76bQW7e265pprcn2cfrfplJjJkyeb1ERa/vbbb5dHHnnErAGogdrMmTNl4sSJJgekLuisC0br/OQ777xTfvrpJ5OUW89Vo0aNYnv+iKAA6+WXXzZvHl1JvHbt2qZL1qW/E2ABAEqLTZs2yc6dO82woKtSpUrSpk0bWbp0aZ4Bll7Mpd93Tz/9tHTo0MFcKa9Bk79hw4aZ4K1+/fqmB613795SsWJFM20mKSlJevXqZb4T81qsGaWPpwHW448/LqNGjZIHHnjAy2oAAEpoCC4vsbGxAUNsocqWKVPGzH/yL6uP1/3BU1Bs0uBKaQ+UP9127wt24MABEyQ999xz0rdvX7OvcePGJtDyd99995mhRnXPPffItddeKwsWLJD27dubfTfffLNMnTrV6vNBBAdY+/btk6uuusrLKgAASkiFChXyvO+SSy6RDz/80Ldds2ZNSUtLy7Xs+eefH7C+ns6b+v3333Md0vPajz/+KOnp6XLRRReFLHfWWWf5fncDuObNmwfs06k0CB+eXkWowdW8efO8rAIAAPmiU1lUcIJs3XbvC+bf0xZKfHy873d3ukzwvuB5yijdPO3BOuWUU8wVGMuWLTORuv+bSQ0YMMCzugEA7Dp48GCe9+kQn79QvTXBQ4Fr1qyR5OTkHPtt08noGkjp0F3Lli3NvtTUVPnqq6/MfOLcNGnSxARZ+phbbrmlWOuH0sXTAEuvqNAu488//9zc/Gm0ToAFAJGjIHOiClpWb0UNsDQA3LhxY8Ckdk1+XbVqVTP5XL+XBg4caOYPa+DkpmnQvFk9e/bM9Zg6r0znGQ8ePFgSEhLMnKrffvtNfvjhBzOvCpHL0wBL37wAAJQGmiLhggsu8G0PGjTI/NTJ6e4Ecw2UdFK95m/Upd10svrcuXND5sDSIEzX19WrAH/99VeTpPSOO+4ogWeEqM6DBQBAadCpU6cTTozXXqwRI0aYW35pz5rmvNJbsIYNG+Y4Z271uPHGG80N4cPzAOt///ufvPfee7J161bJyMgIuG/8+PGe1QsAACAsAyyd9HfZZZfJySefbJKuafZazWqrkfs555zjZdUAAADCM02DZrfV5Gq6uLOOX7/99ttmGQHNcUJ+LAAAEK7KeJ2A7YYbbjC/6wTAw4cPm6sKdWz7iSee8LJqAAAA4Rlg6WW17rwrvari559/9t23Z88eD2sGAAAQpnOw/vznP8vixYulWbNmZpmEf/7zn2a48J133jH3AQDCV2lYqgYlh9e7FAVYepWgm9l3+PDh5veZM2eaBG5cQQgA4cnNyq4jFPldKgbhz107MnhVlmjlaYClVw/6Dxe++OKLXlYHAGCBzqlNSkoyGcv1y7Y4l7DR9fk0kDty5EixL5UTLQraptpzpcGVLm9UuXLlHMseRSvPA6zly5dLtWrVAvZrdlxN0/DLL794VjcAQOFoMk6dV6urdWzZsqVYz6Vf7nqBlPaUuYskw5s21eAqr0Wvo5GnAZbmvMrOzs6xPz09XbZv315s5/3Xv/5lUkTcc889MmHChGI7DwBEK113T6d7BCeQti0zM1MWLVokHTt2ZGjKwzbVcvRclYIASzO3uz7++GOpVKmSb1sDLk1AqssHFAftMXvppZfkrLPOKpbjAwCO0eGlUGv02aBf6llZWeY8BFh20KZhHGC5q45r16MuoulPX0wNrp566inr59VJ9Nddd528/PLLZjV0AACAiAmwdAKdatSokelRql69eomct3///tKjRw/p3LnzCQMsHabUmys1NdXXdao3G9zj2DoeaFPbaE/7aFO7aM/waNPMKHx9PJ2DpRMgg+kEd50oZ9uMGTNk1apVJqDLjzFjxpjUEcHmzZtnro6xaf78+VaPB9rUNtrTPtrULtqzdLdp2vEUDtEkxvEwM5guh6PDgVdffbXZ1vUHdT1Cvfrko48+khYtWlg5j65v2KpVK/NmcedederUSVq2bJnnJPfcerDq1atnMswnJydbi+i1Tl26dGGc2xLa1C7a0z7a1C7aMzzaNDU11YxWpaSkWPsOLe087cHSvFdvvvmm+V1fzE8++UTmzp0r//nPf+T+++83vUU2rFy50uTn0NQP/pPp9SqJ5557zgRSwVc/JCYmmlswfbPZ/iMujmNGO9rULtrTPtrULtqzdLdpfBS+Np4GWDt37jS9QuqDDz6QXr16SdeuXU2vVps2bayd56KLLjJL8Pi76aabpGnTpvLAAw9waSkAAIicAKtKlSpm+E6DLO25ciee66hlbvmxCqtixYpy5plnBuzTzPGa4DR4PwAAQFgHWFdccYX07t3bJKP7/fffpXv37mb/6tWr5ZRTTvGyagAAAOEZYD399NNmOFB7scaOHSsVKlQw+3fs2CH/+Mc/ivXcn332WbEeHwAARC9PAyyd9Hbffffl2H/vvfd6Uh8AAICwDLB0mRwdCtTgyn/JnNxcdtllJVYvAACAsA2wdJkcvXqwZs2aviVzcqPL6Nic6A4AABCxAZa7TE7w7wAAAJGijNcVAAAAiDSeTXLX3qupU6fKO++8I5s3bzZDgrr485VXXil9+vQx2wAAAOHIkx4sTSSqE9hvueUW2b59uzRv3lzOOOMM2bJli9x4443yt7/9zYtqAQAAhG8PlvZc6TqACxYskAsuuCDgvk8//dRMfn/99dflhhtu8KJ6AAAA4deDNX36dHn44YdzBFfqwgsvlAcffNC3CDQAAEC48STA+vbbb+Xiiy/O837Nk7VmzZoSrRMAAEBYB1h79+6VWrVq5Xm/3rdv374SrRMAAEBYB1iaQDQuLu/pX7GxsZKVlVWidQIAAAjrSe56FaFeLZiYmJjr/enp6SVeJwAAgLAOsPr27XvCMlxBCAAAwpUnAdaUKVO8OC0AAECJYKkcAAAAywiwAAAALCPAAgAAsIwACwAAwDICLAAAAMsIsAAAACwjwAIAALCMAAsAAMAyAiwAAADLCLAAAAAsI8ACAACwjAALAADAMgIsAAAAywiwAAAALCPAAgAAsIwACwAAwDICLAAAAMsIsAAAACwjwAIAALCMAAsAAMAyAiwAAADLCLAAAAAsI8ACAACwjAALAADAMgIsAAAAywiwAAAALCPAAgAAsIwACwAAwDICLAAAAMsIsAAAACyLmgBrzJgxct5550nFihWlZs2a0rNnT1m3bp3X1QIAABEoagKszz//XPr37y/Lli2T+fPnS2ZmpnTt2lUOHTrkddUAAECEiZMoMXfu3IDtqVOnmp6slStXSseOHT2rFwAAiDxRE2AFS0lJMT+rVq2a6/3p6enm5kpNTTU/tedLbza4x7F1PNCmttGe9tGmdtGe4dGmmVH4+sQ4juNIlDl69Khcdtllsn//flm8eHGuZR577DEZPnx4jv3Tpk2TpKSkEqglAACRIS0tTXr37m06N5KTkyUaRGWAdeedd8qcOXNMcHXSSSfluwerXr16smfPHmtvDo3odT5Yly5dJD4+3soxox1tahftaR9tahftGR5tmpqaKtWrV4+qACvqhgjvuusu+eCDD2TRokV5BlcqMTHR3ILpm832H3FxHDPa0aZ20Z720aZ20Z6lu03jo/C1iZoASzvq7r77bpk1a5Z89tln0qhRI6+rBAAAIlTUBFiaokHnT7377rsmF9bOnTvN/kqVKkm5cuW8rh4AAIggUZMH64UXXjBjv506dZI6der4bjNnzvS6agAAIMJETQ9WFM7lBwAAHomaHiwAAICSQoAFAABgGQEWAACAZQRYAAAAlhFgAQAAWEaABQAAYBkBFgAAgGUEWAAAAJYRYAEAAFhGgAUAAGAZARYAAIBlBFgAAACWEWABAABYRoAFAABgGQEWAACAZXG2DwgAAEqfo0cdSTmcKXvTMmTfoQzZl5Zpfrrbe82+Yz/TUsrIJZd4XePwRoAFAEAYBksHjmSZ4MgERseDo2MBUmDgdGx/puxPy5CjTv6OnxQXU9xPIeIRYAEA4CHHceRAelZQL9KxgMi/V2nfoWO9T/uPB0zZ+Y2WglRMjJMq5RPMrWpS/LHfkxKk6vGfyYllZN13K60/z2hDgAUAgMVg6VBGti9Y8h9+25/2x/BccCCVVchgqUJinFROivcFR3/8jJfKAdsaUMVL5XIJkhAXevp1ZmamZG8pZAPAhwALAIA8gqU0DZZMUJQzOPLt9+9lSsuQzOzCBUtJCbEmGNJAKDBYOtbbVEUDKXP/sX0aWCXGxVp/3rCDAAsAEBUOHw+WAofdtJcpeDjujzlMGVlHC3WuxLgyUs0XGAUOx7mBkxtMudtl4wmWIgkBFgAg7BzJPBYs/ZZyWNalxIjz3U5JTc/2m/CdGRREZciRzMIFSwmxZXy9SL6ht7yCJrMvQcolECxFOwIsAICn0rOyj81Pcofech2OywzY1qG7P8SKrP02X+eKj43JMfyWYw7T8SDJ3a9DdzExXFWHgiHAAgBYk5l9NGBukhl68wVLf/Qq/bE/Uw6mZxXqXLFlNFiKl7jsdKlfq6pUq5Dom6sUHCy5gZROCidYQkkgwAIA5Cor+6jsP5yZoyfJf9gteA6T5mYqjDIxEjDE5j83ybfff/J3+QSTbiArK0s++ugjueSS8yQ+Pt56GwCFRYAFAFEg283iHTTBO7e5Su5+LV8Y2kFUxR1iCwiacpnDdPy+imXjpIxGWUCEIMACgDDM4p16xD9Y8svcHTQc5+7XYMkpXPYAX6B0orlK7nZyuXgzfAdEMwIsAPA411LqkeNZvE8wsfvYz4IteRIsuWycX16lP5JS+vcy+fYlJUilcvESFxs6MSWAnAiwAMDykif7c7kKzg2Ofj94RH7eFisTN355bH6TzSVP/Ibd/IMkN2jSnqZ4giWgRBBgAcAJljwJTE75x3CcLzmlX0CVvyVPYkQOHArYU16zeAcER0FzmAKWQjk2j+lES54A8A4BFoCoCJYOZ7pJKI/PTcoxsdtvsvfx7YzswiWmLBcf61v7zT/nkhlyK1tGNq/7QS7s0FpqJCex5AkQoQiwAIRlFu+9J5yrFBg0pRdhyZOcE7uPzVnKK61AqCVPdCHdj37/XtqeXI20AkAEI8AC4Hmw5J/F25eEMqhH6dj+Y+W0N6qoS56YZJT+6QP8gib/K+JY8gRAYRBgAbBGF8Z1M3T7z03aH5SU0u1t0rI6z6kwgpc8CR6OCwikjm+z5AmAkkKABSBXuuTJnoPpsiNN5KtNe+VA+tGAJJSBmbxtLHnid9VbHpm7ze/HgymWPAFQmhFgAVG05Ik79BYym3eOJU/iRNasKNKSJ4HbOQMpzc1EsAQgkhBgAWG65MkfGbv90gf4epj+yLukP4uy5ElSrCO1KpeXquUTg5JRBs1hYskTAPAhwAJKzZInuQ275dy/v4hLnhzrOYoPOVfJN8E7TuTjuXPkkks6cMUbABQAARZQTEue+K6EC1oCxVwJ59fTVNQlT8zCuf6Zu33rwx3vVSrCkieaUgAAUHAEWEAewZJO2PbP0B06m/ex+U35y+IdeskT07uUy5In/oEUS54AQOlGgIWoCJbSMrJDJqH8Y8L3H1m+M7MLFywFL3mS21wlN62A29PEkicAEFkIsBB2DmuwlNdCugeOyNqfy8iMXSt8V8bpT83PZHvJE//hOP/FdENl8QYARAcCLHiexdu/98h/OC44KWX+lzwpI/L73nwveeIbeivgkicAAOSFAAvWpGf5LXkSMLE7aHHd48NzRV3yJKBX6XhwVKlsrPy6eYO0b9VSaiSXY8kTAIAnCLAQcskTN4+Sf1LKYxO7c+4v6pInvnlJ/r1MeSyBkteSJ2Yh3Y/WyyUt6pBWAADgmagKsCZNmiTjxo2TnTt3SosWLWTixInSunVriYYlTzQgCkxC6TfB2913fDhObwcsLHliht5yW/IkKMs3S54AACJN1ARYM2fOlEGDBsmLL74obdq0kQkTJki3bt1k3bp1UrNmTQmnLN7HepYCM3fnNhznzl3S3EyFEbzkiU7gDpyrlDOQYskTAACiKMAaP3683HrrrXLTTTeZbQ20PvzwQ3n11VflwQcf9CyL96FMkV9+OyQHMo7mSELpPwTn7k8pZBZvjXkqlwu+6i0ofYDffg2kksvGs+QJAACFEBUBVkZGhqxcuVIeeugh374yZcpI586dZenSpbk+Jj093dxcqampvjk+trJbtxq9UA6kx4ms+LLAj61ULu6PHEvHh9pMAOWmD/C7T3ueNIu3Dt8VRHZ2lmQXblqVZ9zXhgzkdtCe9tGmdtGe4dGmmVH4+kRFgLVnzx7Jzs6WWrVqBezX7Z9++inXx4wZM0aGDx+eY/+8efMkKSnJSr3iRa9qi5FysY6UjxMpHy9SPs6RCuanbh/fHydS4fjvep+uDxcbo8N+RwIPqNkLDh67ZYjIruO3aDR//nyvqxBRaE/7aFO7aM/S3aZpaWkSbaIiwCoM7e3SOVv+PVj16tWTrl27SnJyspVznNchTZYt+kwu7taFK94s/i9JPxS6dKFNbaA97aNN7aI9w6NNU4+PAkWTqAiwqlevLrGxsbJrV2B/jm7Xrl0718ckJiaaWzB9s9l6w9VIThJdTs7mMXEMbWoX7WkfbWoX7Vm62zQ+Cl+bqFgALSEhQc4991xZsGCBb9/Ro0fNdtu2bT2tGwAAiDxR0YOldLivb9++0qpVK5P7StM0HDp0yHdVIQAAgC1RE2BdffXV8ttvv8nQoUNNotGWLVvK3Llzc0x8BwAAKKqoCbDUXXfdZW4AAADFKSrmYAEAAJQkAiwAAADLCLAAAAAsI8ACAACwjAALAADAMgIsAAAAy6IqTUNROI5jfT0lXe9JF8DUY0bjMgLFgTa1i/a0jza1i/YMjzZNPf7d6X6XRgMCrHw6cOCA+akLPgMAgMJ9l1aqVEmiQYwTTeFkEejahb/++qtUrFhRYmJirEX0GrBt27ZNkpOTrRwz2tGmdtGe9tGmdtGe4dGmjuOY4Kpu3bpSpkx0zE6iByuf9A1x0kknFcux9Q3MB4NdtKldtKd9tKldtGfpb9NKUdJz5YqOMBIAAKAEEWABAABYRoDlocTERBk2bJj5CTtoU7toT/toU7toT/toUzuY5A4AAGAZPVgAAACWEWABAABYRoAFAABgGQEWAACAZQRYHpo0aZI0bNhQypYtK23atJGvv/7a6yqFpTFjxsh5551nsuzXrFlTevbsKevWrfO6WhHlX//6l1nBYODAgV5XJWxt375drr/+eqlWrZqUK1dOmjdvLitWrPC6WmErOztbhgwZIo0aNTLt2bhxYxk5cmRUrXVXVIsWLZJLL73UZFfXv+/Zs2cH3K9tOXToUKlTp45p486dO8uGDRs8q2+4IcDyyMyZM2XQoEHmUthVq1ZJixYtpFu3brJ7926vqxZ2Pv/8c+nfv78sW7ZM5s+fbxYq7dq1qxw6dMjrqkWE5cuXy0svvSRnnXWW11UJW/v27ZP27dubhXPnzJkja9eulaeeekqqVKniddXC1hNPPCEvvPCCPPfcc/Ljjz+a7bFjx8rEiRO9rlrY0M9I/e7R/+znRtvz2WeflRdffFG++uorKV++vPmeOnLkSInXNSxpmgaUvNatWzv9+/f3bWdnZzt169Z1xowZ42m9IsHu3bv1v7DO559/7nVVwt6BAwecJk2aOPPnz3fOP/9855577vG6SmHpgQcecDp06OB1NSJKjx49nH79+gXsu+KKK5zrrrvOszqFM/3MnDVrlm/76NGjTu3atZ1x48b59u3fv99JTEx0pk+f7lEtwws9WB7IyMiQlStXmu5W/7UOdXvp0qWe1i0SpKSkmJ9Vq1b1uiphT3sGe/ToEfBeRcG999570qpVK7nqqqvMMPbZZ58tL7/8stfVCmvt2rWTBQsWyPr16832mjVrZPHixdK9e3evqxYRNm3aJDt37gz429e1BHU6C99T+cNizx7Ys2ePmT9Qq1atgP26/dNPP3lWr0hw9OhRM09Ih2POPPNMr6sT1mbMmGGGr3WIEEXzyy+/mOEsnRbw8MMPmzYdMGCAJCQkSN++fb2uXlh68MEHJTU1VZo2bSqxsbHmM3XUqFFy3XXXeV21iKDBlcrte8q9D6ERYCHiely+//578z9ZFN62bdvknnvuMXPa9CIMFD3w1x6s0aNHm23twdL3qc5tIcAqnP/85z/y5ptvyrRp0+SMM86Qb775xvznSids06YoDRgi9ED16tXN/7h27doVsF+3a9eu7Vm9wt1dd90lH3zwgSxcuFBOOukkr6sT1nQIWy+4OOeccyQuLs7c9GICnfCqv2tvAfJPr8I6/fTTA/Y1a9ZMtm7d6lmdwt39999verGuueYac0Vmnz595N577zVXFaPo3O8ivqcKjwDLAzoscO6555r5A/7/w9Xttm3belq3cKTzMzW4mjVrlnz66afmsm0UzUUXXSTfffed6RVwb9oDo8Mv+rv+BwH5p0PWwalDdO5QgwYNPKtTuEtLSzNzV/3p+1I/S1F0+jmqgZT/95QOyerVhHxP5Q9DhB7RuRjaja1fWq1bt5YJEyaYS2Zvuukmr6sWlsOCOkzw7rvvmlxY7vwAnZCpuVtQcNqOwXPY9BJtzeHE3LaC054VnZStQ4S9evUyOe8mT55sbigczd+kc67q169vhghXr14t48ePl379+nldtbBx8OBB2bhxY8DEdv0PlF4gpO2qQ66PP/64NGnSxARcmndMh2A11yDywevLGKPZxIkTnfr16zsJCQkmbcOyZcu8rlJY0rdxbrcpU6Z4XbWIQpqGonn//fedM88801zm3rRpU2fy5MleVymspaammvejfoaWLVvWOfnkk51HHnnESU9P97pqYWPhwoW5fnb27dvXl6phyJAhTq1atcz79qKLLnLWrVvndbXDRoz+k59ADAAAAPnDHCwAAADLCLAAAAAsI8ACAACwjAALAADAMgIsAAAAywiwAAAALCPAAgAAsIwAC0DU0EzUt912W5GO8dlnn0lMTIzs378/34/RNfPuvvvuIp0XQHgh0SiAkDSYCGXYsGHy2GOPSWmnSyideuqpZo3FoqwBmJGRIXv37pVatWqdsG1ce/bskZNPPtksQ6I/AUQ+AiwAIblrO6qZM2fK0KFDAxYurlChgrmVdrqm2uLFi2Xu3LmenP+qq66Shg0byrhx4zw5P4CSxRAhgJBq167tu+kC2tpr479vxowZ0qxZMylbtqw0bdpUnn/+ed9jN2/ebMr/5z//kb/85S9m8e3zzjtP1q9fL8uXLzeLnWtw1r17d/ntt998j7vxxhvNgrLDhw+XGjVqSHJystxxxx2m98j11ltvSfPmzc0xdRHqzp07mwXT86L11AWC/XXq1MkM3emitlWqVDG9Ui+//LJv4XVd9PqUU06ROXPm5DlEOHXqVKlcubJ8/PHHph30+Vx88cWyY8eOgHPpubUOAKIDARaAQnvzzTdNj9aoUaPkxx9/lNGjR5t5Tq+99lqOYcRHH31UVq1aJXFxcdK7d28ZPHiwPPPMM/LFF1/Ixo0bzXH8LViwwBxTA5rp06fLO++8YwIupcHLtddeK/369fOVueKKK3Tx+lzrqUN6a9euNQFdMK1r9erV5euvvzbB1p133ml6m9q1a2fq27VrV+nTp4+kpaXl2Q5635NPPilvvPGGLFq0SLZu3Sr33XdfQJnWrVvL//73PxN0AogCXq82DSB8TJkyxalUqZJvu3Hjxs60adMCyowcOdJp27at+X3Tpk0a8TivvPKK7/7p06ebfQsWLPDtGzNmjHPaaaf5tvv27etUrVrVOXTokG/fCy+84FSoUMHJzs52Vq5caY6xefPmfNV79erVpvzWrVsD9p9//vlOhw4dfNtZWVlO+fLlnT59+vj27dixwzx26dKlZnvhwoVme9++fb420e2NGzf6HjNp0iSnVq1aAedKSUkx5T777LN81RlAeIvzOsADEJ50GO3nn3+Wm2++WW699Vbf/qysLDOU6O+ss87y/a7DcEqH9/z37d69O+AxLVq0kKSkJN9227Zt5eDBg7Jt2zZz30UXXWSO0a1bN9PLdOWVV5phvtwcPnzY/NRhzGD+dYuNjTXDjcF1U8H186f1bNy4sW+7Tp06OcrrUKYK1RMGIHIQYAEoFA12lM5ZatOmTcB9Gqj4i4+P9/3uXnkXvO/o0aP5Prcef/78+bJkyRKZN2+eTJw4UR555BH56quvpFGjRjnK6xCg2rdvn5nTlVfd3LrkVt9Q9cvtGMHDlTpMqYLPDyAyMQcLQKFoz07dunXll19+MRPB/W+5BTkFtWbNGl/Pk1q2bJmZQF6vXj1fENO+fXszL2v16tWSkJAgs2bNyvVY2rukE+V1HpZXvv/+exOInXHGGZ7VAUDJoQcLQKFpcDNgwAAzJKhXzqWnp8uKFStMT9GgQYOKdGy9YlCHH3VyvE4M14nyd911l5QpU8b0VOkkeB0arFmzptnWqxD1Kr7c6GP0KkNN06BXJ3pBJ/O7V1ICiHwEWAAK7ZZbbjHzjzS30/333y/ly5c385c07UFR6RyrJk2aSMeOHU3gplcNuglNtTdKr9abMGGCpKammsShTz31lEn3EKquOlds7NixJuAqaZqiIRwSsgKwg0SjAEodzYOleaZmz55t7Zj6Uadzxe69914TrJUkzaP1z3/+U7799luTpgJA5GMOFoCooHO2Jk+ebK5y9OKKyylTphBcAVGEv3YAUaNly5bmVtI0hQSA6MIQIQAAgNj1/12rCshiQRNfAAAAAElFTkSuQmCC' width=600.0/>\n",
       "            </div>\n",
       "        "
      ],
      "text/plain": [
       "Canvas(toolbar=Toolbar(toolitems=[('Home', 'Reset original view', 'home', 'home'), ('Back', 'Back to previous …"
      ]
     },
     "metadata": {},
     "output_type": "display_data"
    }
   ],
   "source": [
    "# Exemple de démo : tracer la courbe de sédimentation pour du lait à 10 000 rpm\n",
    "plot_sedimentation_curves(sample_type='Lait',\n",
    "                          rpm_list=[10000],\n",
    "                          distance=0.10,\n",
    "                          t_max=600)"
   ]
  },
  {
   "cell_type": "code",
   "execution_count": null,
   "id": "c3c864ed-6995-4db9-899f-3102e2477596",
   "metadata": {},
   "outputs": [],
   "source": []
  }
 ],
 "metadata": {
  "kernelspec": {
   "display_name": "Python 3 (ipykernel)",
   "language": "python",
   "name": "python3"
  },
  "language_info": {
   "codemirror_mode": {
    "name": "ipython",
    "version": 3
   },
   "file_extension": ".py",
   "mimetype": "text/x-python",
   "name": "python",
   "nbconvert_exporter": "python",
   "pygments_lexer": "ipython3",
   "version": "3.13.5"
  }
 },
 "nbformat": 4,
 "nbformat_minor": 5
}
